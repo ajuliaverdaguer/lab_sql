{
 "cells": [
  {
   "cell_type": "code",
   "execution_count": null,
   "metadata": {},
   "outputs": [],
   "source": [
    "# import sys\n",
    "# !{sys.executable} -m pip install psycopg2"
   ]
  },
  {
   "cell_type": "code",
   "execution_count": 1,
   "metadata": {},
   "outputs": [],
   "source": [
    "import glob\n",
    "import os\n",
    "import pandas as pd\n",
    "import psycopg2"
   ]
  },
  {
   "cell_type": "code",
   "execution_count": 2,
   "metadata": {},
   "outputs": [],
   "source": [
    "host = 'localhost'\n",
    "user = 'anna'\n",
    "pwd = 1234\n",
    "db = 'test'"
   ]
  },
  {
   "cell_type": "code",
   "execution_count": 3,
   "metadata": {},
   "outputs": [],
   "source": [
    "data_path = '/home/anna.julia/sql_lab/db_data/'"
   ]
  },
  {
   "cell_type": "code",
   "execution_count": 14,
   "metadata": {},
   "outputs": [
    {
     "ename": "UndefinedTable",
     "evalue": "relation \"people_jobs\" does not exist\nLINE 2: SELECT * FROM people_jobs\n                      ^\n",
     "output_type": "error",
     "traceback": [
      "\u001b[0;31m---------------------------------------------------------------------------\u001b[0m",
      "\u001b[0;31mUndefinedTable\u001b[0m                            Traceback (most recent call last)",
      "\u001b[0;32m<ipython-input-14-b1e730a36217>\u001b[0m in \u001b[0;36m<module>\u001b[0;34m()\u001b[0m\n\u001b[1;32m      5\u001b[0m \"\"\"\n\u001b[1;32m      6\u001b[0m \u001b[0;34m\u001b[0m\u001b[0m\n\u001b[0;32m----> 7\u001b[0;31m \u001b[0mcur\u001b[0m\u001b[0;34m.\u001b[0m\u001b[0mexecute\u001b[0m\u001b[0;34m(\u001b[0m\u001b[0mquery\u001b[0m\u001b[0;34m)\u001b[0m\u001b[0;34m\u001b[0m\u001b[0m\n\u001b[0m\u001b[1;32m      8\u001b[0m \u001b[0;34m\u001b[0m\u001b[0m\n\u001b[1;32m      9\u001b[0m \u001b[0;31m# commit the changes\u001b[0m\u001b[0;34m\u001b[0m\u001b[0;34m\u001b[0m\u001b[0m\n",
      "\u001b[0;31mUndefinedTable\u001b[0m: relation \"people_jobs\" does not exist\nLINE 2: SELECT * FROM people_jobs\n                      ^\n"
     ]
    }
   ],
   "source": [
    "conn = psycopg2.connect(\"host=localhost dbname=test user=anna password=1234\")\n",
    "cur = conn.cursor()\n",
    "query = \"\"\"\n",
    "SELECT * FROM people_jobs\n",
    "\"\"\"\n",
    "\n",
    "cur.execute(query)\n",
    "\n",
    "# commit the changes\n",
    "conn.commit()\n",
    "# one = cur.fetchone()\n",
    "# all = cur.fetchall()\n",
    "# close communication with the PostgreSQL database server\n",
    "cur.close()"
   ]
  },
  {
   "cell_type": "code",
   "execution_count": null,
   "metadata": {},
   "outputs": [],
   "source": [
    "all"
   ]
  },
  {
   "cell_type": "code",
   "execution_count": 15,
   "metadata": {},
   "outputs": [],
   "source": [
    "def create_tables():\n",
    "    \"\"\" Create tables in the PostgreSQL database\"\"\"\n",
    "    commands = (\n",
    "        \"\"\"\n",
    "        CREATE TABLE people_jobs (\n",
    "            person_id SMALLINT NOT NULL,\n",
    "            job_id SMALLINT NOT NULL,\n",
    "            CONSTRAINT people_jobs_pkey PRIMARY KEY (person_id, job_id)\n",
    "        )\n",
    "        \"\"\",\n",
    "        \"\"\"\n",
    "        CREATE TABLE jobs (\n",
    "            job_id SMALLINT PRIMARY KEY,\n",
    "            job_name TEXT NOT NULL\n",
    "        )\n",
    "        \"\"\",\n",
    "        \"\"\"\n",
    "        CREATE TABLE housing (\n",
    "            house_id SMALLINT PRIMARY KEY,\n",
    "            neighborhood TEXT NOT NULL,\n",
    "            locality TEXT NOT NULL\n",
    "        )\n",
    "        \"\"\",\n",
    "        \"\"\"\n",
    "        CREATE TABLE people (\n",
    "                person_id SMALLINT PRIMARY KEY,\n",
    "                name VARCHAR(50) NOT NULL,\n",
    "                age SMALLINT,\n",
    "                gender VARCHAR(1),\n",
    "                house_id SMALLINT\n",
    "        )\n",
    "        \"\"\")\n",
    "    conn = None\n",
    "    try:\n",
    "        # read the connection parameters\n",
    "#         params = config()\n",
    "        # Connect to the PostgreSQL server\n",
    "        conn = psycopg2.connect(\"host=localhost dbname=test user=anna password=1234\")\n",
    "        cur = conn.cursor()\n",
    "        # Create table one by one\n",
    "        for command in commands:\n",
    "            cur.execute(command)\n",
    "        \n",
    "        # Close communication with the PostgreSQL database server\n",
    "        cur.close()\n",
    "        \n",
    "        # Commit the changes\n",
    "        conn.commit()\n",
    "    except (Exception, psycopg2.DatabaseError) as error:\n",
    "        print(error)\n",
    "    finally:\n",
    "        if conn is not None:\n",
    "            conn.close()"
   ]
  },
  {
   "cell_type": "code",
   "execution_count": 16,
   "metadata": {},
   "outputs": [],
   "source": [
    "create_tables()"
   ]
  },
  {
   "cell_type": "code",
   "execution_count": 17,
   "metadata": {},
   "outputs": [
    {
     "name": "stdout",
     "output_type": "stream",
     "text": [
      "people\n",
      "jobs\n",
      "people_jobs\n",
      "housing\n"
     ]
    }
   ],
   "source": [
    "conn = psycopg2.connect(\"host=localhost dbname=test user=anna password=1234\")\n",
    "cur = conn.cursor()\n",
    "\n",
    "csv_files = [os.path.join(data_path, f) for f in glob.glob(data_path + '*.csv')]\n",
    "\n",
    "for file in csv_files:\n",
    "    df = pd.read_csv(file, sep=\";\")\n",
    "    tab_name = file.replace(data_path, \"\").replace(\".csv\", \"\").replace(\"tab_\", \"\")\n",
    "    print(tab_name)\n",
    "    try:\n",
    "        with open(file, 'r') as f:\n",
    "            next(f)  # Skip the header row.\n",
    "            cur.copy_from(f, tab_name, sep=';')\n",
    "    except Exception as e:\n",
    "        print(e)\n",
    "        continue\n",
    "    \n",
    "conn.commit()\n",
    "cur.close()"
   ]
  },
  {
   "cell_type": "code",
   "execution_count": null,
   "metadata": {},
   "outputs": [],
   "source": []
  }
 ],
 "metadata": {
  "kernelspec": {
   "display_name": "Python 3",
   "language": "python",
   "name": "python3"
  },
  "language_info": {
   "codemirror_mode": {
    "name": "ipython",
    "version": 3
   },
   "file_extension": ".py",
   "mimetype": "text/x-python",
   "name": "python",
   "nbconvert_exporter": "python",
   "pygments_lexer": "ipython3",
   "version": "3.6.5"
  }
 },
 "nbformat": 4,
 "nbformat_minor": 2
}
