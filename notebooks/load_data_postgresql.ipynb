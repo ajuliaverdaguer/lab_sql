{
 "cells": [
  {
   "cell_type": "markdown",
   "metadata": {},
   "source": [
    "# PostgreSQL installation & data loading: guidelines"
   ]
  },
  {
   "cell_type": "markdown",
   "metadata": {},
   "source": [
    "## Installation of PostgreSQL"
   ]
  },
  {
   "cell_type": "markdown",
   "metadata": {},
   "source": [
    "### Linux"
   ]
  },
  {
   "cell_type": "markdown",
   "metadata": {},
   "source": [
    "* Install PostgreSQL:\n",
    "https://www.digitalocean.com/community/tutorials/how-to-install-and-use-postgresql-on-ubuntu-16-04\n",
    "\n",
    "        sudo apt-get update\n",
    "        sudo apt-get install postgresql postgresql-contrib\n",
    "\n",
    "\n",
    "* Install DBeaver (if a user interface is wanted): \n",
    "    * https://dbeaver.io/\n",
    "    * https://computingforgeeks.com/install-dbeaver-on-ubuntu-18-04-ubuntu-16-04-debian-9/\n",
    "\n",
    "            wget -O - https://dbeaver.io/debs/dbeaver.gpg.key | sudo apt-key add -\n",
    "            echo \"deb https://dbeaver.io/debs/dbeaver-ce /\" | sudo tee /etc/apt/sources.list.d/dbeaver.list\n",
    "\n",
    "            sudo apt update\n",
    "            sudo apt -y  install dbeaver-ce\n",
    "\n",
    "* Execute PostgreSQL and create a user (password on demand):\n",
    "     \n",
    "        sudo -i -u postgres\n",
    "        createuser -P -s -e <user_name>\n",
    "\n",
    "* The connection will be with:\n",
    "    * host: _localhost_\n",
    "    * user: _<user_name>_\n",
    "    * pwd: _<pwd_generated>_\n",
    "\n",
    "\n",
    "* Create test database:\n",
    "\n",
    "        sudo -u postgres createdb <dbname>"
   ]
  },
  {
   "cell_type": "markdown",
   "metadata": {},
   "source": [
    "### Mac"
   ]
  },
  {
   "cell_type": "markdown",
   "metadata": {},
   "source": [
    "* https://www.postgresql.org/download/macosx/\n",
    "* https://www.robinwieruch.de/postgres-sql-macos-setup/"
   ]
  },
  {
   "cell_type": "markdown",
   "metadata": {},
   "source": [
    "### Windows"
   ]
  },
  {
   "cell_type": "markdown",
   "metadata": {},
   "source": [
    "https://www.postgresql.org/download/windows/\n"
   ]
  },
  {
   "cell_type": "markdown",
   "metadata": {},
   "source": [
    "## Data loading"
   ]
  },
  {
   "cell_type": "markdown",
   "metadata": {},
   "source": [
    "Once the DB and a user are created, you should change the **credentials** and the **data_path** below and it should be working!"
   ]
  },
  {
   "cell_type": "code",
   "execution_count": null,
   "metadata": {},
   "outputs": [],
   "source": [
    "# For installing packages from Jupyter notebook\n",
    "# import sys\n",
    "# !{sys.executable} -m pip install psycopg2\n",
    "\n",
    "# To install requirements.txt\n",
    "# !{sys.executable} -m pip install -r requirements.txt"
   ]
  },
  {
   "cell_type": "code",
   "execution_count": null,
   "metadata": {},
   "outputs": [],
   "source": [
    "import glob\n",
    "import os\n",
    "import pandas as pd\n",
    "from pathlib import Path\n",
    "import psycopg2"
   ]
  },
  {
   "cell_type": "code",
   "execution_count": null,
   "metadata": {},
   "outputs": [],
   "source": [
    "# Credentials to connect to DB \n",
    "# (this should not be placed inside the code!)\n",
    "host = 'localhost'\n",
    "user = ...\n",
    "pwd = ...\n",
    "db = ..."
   ]
  },
  {
   "cell_type": "code",
   "execution_count": null,
   "metadata": {},
   "outputs": [],
   "source": [
    "# Path where the data to load into the DB is found\n",
    "data_path = ..."
   ]
  },
  {
   "cell_type": "code",
   "execution_count": null,
   "metadata": {},
   "outputs": [],
   "source": [
    "# Connection to DB\n",
    "conn = psycopg2.connect(dbname=db, user=user, password=pwd, host=host)"
   ]
  },
  {
   "cell_type": "code",
   "execution_count": null,
   "metadata": {},
   "outputs": [],
   "source": [
    "def create_tables(host, dbname, user, pwd):\n",
    "    \"\"\" Create tables in the PostgreSQL database\"\"\"\n",
    "    \n",
    "    commands = (\n",
    "        \"\"\"\n",
    "        CREATE TABLE IF NOT EXISTS people_jobs (\n",
    "            person_id SMALLINT NOT NULL,\n",
    "            job_id SMALLINT NOT NULL,\n",
    "            CONSTRAINT people_jobs_pkey PRIMARY KEY (person_id, job_id)\n",
    "        )\n",
    "        \"\"\",\n",
    "        \"\"\"\n",
    "        CREATE TABLE IF NOT EXISTS jobs (\n",
    "            job_id SMALLINT PRIMARY KEY,\n",
    "            job_name TEXT NOT NULL\n",
    "        )\n",
    "        \"\"\",\n",
    "        \"\"\"\n",
    "        CREATE TABLE IF NOT EXISTS housing (\n",
    "            house_id SMALLINT PRIMARY KEY,\n",
    "            neighborhood TEXT NOT NULL,\n",
    "            locality TEXT NOT NULL\n",
    "        )\n",
    "        \"\"\",\n",
    "        \"\"\"\n",
    "        CREATE TABLE IF NOT EXISTS people (\n",
    "                person_id SMALLINT PRIMARY KEY,\n",
    "                name VARCHAR(50) NOT NULL,\n",
    "                age SMALLINT,\n",
    "                gender VARCHAR(1),\n",
    "                house_id SMALLINT,\n",
    "                fav_music_gndr TEXT,\n",
    "                debt_balance REAL\n",
    "        )\n",
    "        \"\"\")\n",
    "    conn = None\n",
    "    try:\n",
    "        # Connect to the PostgreSQL server\n",
    "        conn = psycopg2.connect(dbname=db, user=user, password=pwd, host=host)\n",
    "        cur = conn.cursor()\n",
    "        \n",
    "        # Create table one by one\n",
    "        for command in commands:\n",
    "            cur.execute(command)\n",
    "        \n",
    "        # Close communication with the PostgreSQL database server\n",
    "        cur.close()\n",
    "        \n",
    "        # Commit the changes\n",
    "        conn.commit()\n",
    "    except (Exception, psycopg2.DatabaseError) as error:\n",
    "        print(error)\n",
    "    finally:\n",
    "        if conn is not None:\n",
    "            conn.close()"
   ]
  },
  {
   "cell_type": "code",
   "execution_count": null,
   "metadata": {},
   "outputs": [],
   "source": [
    "# Create tables\n",
    "create_tables(host=host, dbname=db, user=user, pwd=pwd)"
   ]
  },
  {
   "cell_type": "code",
   "execution_count": null,
   "metadata": {},
   "outputs": [],
   "source": [
    "# Transform data_path into Path, if it is a string\n",
    "if type(data_path) == str:\n",
    "    data_path = Path(data_path)\n",
    "\n",
    "# Load data into brand new DB\n",
    "cur = conn.cursor()\n",
    "\n",
    "csv_files = [f for f in data_path.glob('*.csv')]\n",
    "\n",
    "for file in csv_files:\n",
    "    \n",
    "    df = pd.read_csv(file, sep=\";\")\n",
    "    tab_name = file.stem.replace('tab_', '')\n",
    "    \n",
    "    print(\"Loading table\", tab_name)\n",
    "    \n",
    "    try:\n",
    "        with open(file, 'r') as f:\n",
    "            next(f)  # Skip the header row.\n",
    "            cur.copy_from(f, tab_name, sep=';', null='None')\n",
    "            \n",
    "    except Exception as e:\n",
    "        print(e)\n",
    "        conn.commit()\n",
    "        cur.close()\n",
    "        cur = conn.cursor()\n",
    "        continue\n",
    "    \n",
    "conn.commit()\n",
    "cur.close()"
   ]
  },
  {
   "cell_type": "markdown",
   "metadata": {},
   "source": [
    "## DB checks"
   ]
  },
  {
   "cell_type": "code",
   "execution_count": null,
   "metadata": {},
   "outputs": [],
   "source": [
    "delete_tabs = True"
   ]
  },
  {
   "cell_type": "code",
   "execution_count": null,
   "metadata": {},
   "outputs": [],
   "source": [
    "if delete_tabs:\n",
    "    cur = conn.cursor()\n",
    "\n",
    "    for tab in ['jobs', 'people_jobs', 'housing', 'people']:\n",
    "        query = f\"\"\"\n",
    "        DROP TABLE {tab} \n",
    "        \"\"\"\n",
    "\n",
    "        cur.execute(query)\n",
    "\n",
    "    # Commit the changes\n",
    "    conn.commit()"
   ]
  },
  {
   "cell_type": "code",
   "execution_count": null,
   "metadata": {},
   "outputs": [],
   "source": [
    "query = \"\"\"\n",
    "SELECT * FROM people\n",
    "\"\"\""
   ]
  },
  {
   "cell_type": "code",
   "execution_count": null,
   "metadata": {},
   "outputs": [],
   "source": [
    "people = pd.read_sql_query(query, conn)\n",
    "people.head()"
   ]
  },
  {
   "cell_type": "code",
   "execution_count": null,
   "metadata": {},
   "outputs": [],
   "source": []
  }
 ],
 "metadata": {
  "kernelspec": {
   "display_name": "Python 3",
   "language": "python",
   "name": "python3"
  },
  "language_info": {
   "codemirror_mode": {
    "name": "ipython",
    "version": 3
   },
   "file_extension": ".py",
   "mimetype": "text/x-python",
   "name": "python",
   "nbconvert_exporter": "python",
   "pygments_lexer": "ipython3",
   "version": "3.6.8"
  }
 },
 "nbformat": 4,
 "nbformat_minor": 2
}
