{
 "cells": [
  {
   "cell_type": "markdown",
   "metadata": {},
   "source": [
    "# SQL exercises"
   ]
  },
  {
   "cell_type": "markdown",
   "metadata": {},
   "source": [
    "There are multiple Python packages to connect with PostgreSQL databases. \n",
    "\n",
    "In this case, we will be using _psycopg2_ which is easy and direct to use, and queries have to be written from scratch (https://pypi.org/project/psycopg2/).\n",
    "\n",
    "You may be wanting to try _SQLalchemy_ in the future! (https://www.sqlalchemy.org/)"
   ]
  },
  {
   "cell_type": "markdown",
   "metadata": {},
   "source": [
    "## Settings"
   ]
  },
  {
   "cell_type": "code",
   "execution_count": null,
   "metadata": {},
   "outputs": [],
   "source": [
    "import pandas as pd\n",
    "import psycopg2"
   ]
  },
  {
   "cell_type": "code",
   "execution_count": null,
   "metadata": {},
   "outputs": [],
   "source": [
    "# Credentials to connect to DB \n",
    "# (this should not be placed inside the code!)\n",
    "host = 'localhost'\n",
    "user = ...\n",
    "pwd = ...\n",
    "db = ..."
   ]
  },
  {
   "cell_type": "code",
   "execution_count": null,
   "metadata": {},
   "outputs": [],
   "source": [
    "# Just in case, I have a very nice friend who helped me with this!\n",
    "\n",
    "# host = 'ec2-54-228-252-67.eu-west-1.compute.amazonaws.com'\n",
    "# db = 'd7u5bdm54tead0'\n",
    "# user = 'izayhcdkouaqxr'\n",
    "# port = 5432\n",
    "# pwd = '5218ec72a7464d752026c6280b41e4dd855a14c0d7203fa0c437fe2c408e0afa'"
   ]
  },
  {
   "cell_type": "code",
   "execution_count": null,
   "metadata": {},
   "outputs": [],
   "source": [
    "# Connection to DB\n",
    "conn = psycopg2.connect(dbname=db, user=user, password=pwd, host=host)"
   ]
  },
  {
   "cell_type": "markdown",
   "metadata": {},
   "source": [
    "## Let's practice!"
   ]
  },
  {
   "cell_type": "markdown",
   "metadata": {},
   "source": [
    "### Before calçotada"
   ]
  },
  {
   "cell_type": "markdown",
   "metadata": {},
   "source": [
    "Before the _calçotada_ starts, there is always a big issue: **music**. That's why a column *fav_music_gndr* was added to choose that music among people's preferences which is more socially accepted in this group."
   ]
  },
  {
   "cell_type": "markdown",
   "metadata": {},
   "source": [
    "1. In order to have some songs from each style, check which genders of music were chosen as favourite."
   ]
  },
  {
   "cell_type": "code",
   "execution_count": null,
   "metadata": {},
   "outputs": [],
   "source": [
    "cur = conn.cursor()\n",
    "\n",
    "# Define query\n",
    "query = \"\"\"\n",
    "SELECT ...\n",
    "\"\"\"\n",
    "\n",
    "# Execute query\n",
    "cur.execute(query)\n",
    "\n",
    "# Fetch data from DB\n",
    "fetched_data = cur.fetchall()\n",
    "\n",
    "# Recover column names\n",
    "colnames = [desc[0] for desc in cur.description]\n",
    "\n",
    "# Close communication with the PostgreSQL database server\n",
    "cur.close()"
   ]
  },
  {
   "cell_type": "code",
   "execution_count": null,
   "metadata": {},
   "outputs": [],
   "source": [
    "pd.DataFrame(fetched_data, columns=colnames)"
   ]
  },
  {
   "cell_type": "markdown",
   "metadata": {},
   "source": [
    "2. Let's see which styles are predominant. Count the number of followers for each music gender and order them to place the most popular ones on top."
   ]
  },
  {
   "cell_type": "code",
   "execution_count": null,
   "metadata": {},
   "outputs": [],
   "source": []
  },
  {
   "cell_type": "markdown",
   "metadata": {},
   "source": [
    "3. Apparently, there were some people whose names started with \"Ma\". Just as a curious thing, which are they favourite music genders? \n",
    "\n",
    "    Hint: _You may want to look for SUBSTRING or LEFT functions_"
   ]
  },
  {
   "cell_type": "code",
   "execution_count": null,
   "metadata": {},
   "outputs": [],
   "source": []
  },
  {
   "cell_type": "markdown",
   "metadata": {},
   "source": [
    "4. To create a fair playlist of 200 songs (enough for at least 12 hours), calculate how many songs per music gender we need (maintaining the same distribution as people's preferences)."
   ]
  },
  {
   "cell_type": "code",
   "execution_count": null,
   "metadata": {},
   "outputs": [],
   "source": []
  },
  {
   "cell_type": "markdown",
   "metadata": {},
   "source": [
    "5. Since reggaeton is always controversial in a party, let's see if there is a majority of people whose favourite style is not _reggaeton_.\n",
    "\n",
    "    Hint: _Check how does CASE WHEN works!_"
   ]
  },
  {
   "cell_type": "code",
   "execution_count": null,
   "metadata": {},
   "outputs": [],
   "source": []
  },
  {
   "cell_type": "markdown",
   "metadata": {},
   "source": [
    "### After calçotada"
   ]
  },
  {
   "cell_type": "markdown",
   "metadata": {},
   "source": [
    "Once the _calçotada_ is over, it's time to settle up expenses. In this case, let's imagine I paid for everything (which I did not because we are such a nice group that everyone was in charge of sth) and we created a *debt_balance* column with the amount of money each person owes me."
   ]
  },
  {
   "cell_type": "markdown",
   "metadata": {},
   "source": [
    "6. Which is the total amount that I have to be paid back?"
   ]
  },
  {
   "cell_type": "code",
   "execution_count": null,
   "metadata": {},
   "outputs": [],
   "source": []
  },
  {
   "cell_type": "markdown",
   "metadata": {},
   "source": [
    "7. Which is the neighborhood owing more money (as an absolute quantity)?"
   ]
  },
  {
   "cell_type": "code",
   "execution_count": null,
   "metadata": {},
   "outputs": [],
   "source": []
  },
  {
   "cell_type": "markdown",
   "metadata": {},
   "source": [
    "8. And from a debt per person (€/pers) perspective, which is the neighborhood I should send the debt collectors (*cobradors del frac*) first? "
   ]
  },
  {
   "cell_type": "code",
   "execution_count": null,
   "metadata": {},
   "outputs": [],
   "source": []
  },
  {
   "cell_type": "markdown",
   "metadata": {},
   "source": [
    "9. And, by profession, which is the job most defaulter? (Take into account that if we just take into account the total amount, it is very probable that mathematicians are the ones owing more money just because we were more. Calculate the debt by person, too)"
   ]
  },
  {
   "cell_type": "code",
   "execution_count": null,
   "metadata": {},
   "outputs": [],
   "source": []
  },
  {
   "cell_type": "markdown",
   "metadata": {},
   "source": [
    "Now that I know after who I have to go first to get back the money, it's already time to go back home after a complete day full with *calçots*, good music and great company, so I better find a good spot on a car. But wait...!"
   ]
  },
  {
   "cell_type": "markdown",
   "metadata": {},
   "source": [
    "10. Could you discover who is my flatmate so that we can go back together in the same car?"
   ]
  },
  {
   "cell_type": "code",
   "execution_count": null,
   "metadata": {},
   "outputs": [],
   "source": []
  },
  {
   "cell_type": "markdown",
   "metadata": {},
   "source": [
    "**Super well done and thanks for your time and interest!!!**\n",
    "\n",
    "If you want to practice more PostreSQL exercises, take a look here: https://pgexercises.com/!  "
   ]
  },
  {
   "cell_type": "markdown",
   "metadata": {},
   "source": [
    "Once finished, it's polite to close the connection to the DB! Too many open connections may cause some trouble in accessing the database, as well as some anger among infrastructure and systems developers!"
   ]
  },
  {
   "cell_type": "code",
   "execution_count": null,
   "metadata": {},
   "outputs": [],
   "source": [
    "# Close connection\n",
    "conn.close()"
   ]
  }
 ],
 "metadata": {
  "kernelspec": {
   "display_name": "Python 3",
   "language": "python",
   "name": "python3"
  },
  "language_info": {
   "codemirror_mode": {
    "name": "ipython",
    "version": 3
   },
   "file_extension": ".py",
   "mimetype": "text/x-python",
   "name": "python",
   "nbconvert_exporter": "python",
   "pygments_lexer": "ipython3",
   "version": "3.6.5"
  }
 },
 "nbformat": 4,
 "nbformat_minor": 2
}
