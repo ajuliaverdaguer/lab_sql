{
 "cells": [
  {
   "cell_type": "markdown",
   "metadata": {},
   "source": [
    "# SQL exercises"
   ]
  },
  {
   "cell_type": "markdown",
   "metadata": {},
   "source": [
    "There are multiple Python packages to connect with PostgreSQL databases. \n",
    "\n",
    "\n",
    "#### SQLalchemy\n",
    "In this case, we will be using _SQLalchemy_, but just to connect to the database. SQLalchemy provides many more options! Take a look [here](https://www.sqlalchemy.org/).\n",
    "\n",
    "#### psycopg2\n",
    "You can also try _psycopg2_ which is easy and direct to use. Further reading [here](https://pypi.org/project/psycopg2/)."
   ]
  },
  {
   "cell_type": "markdown",
   "metadata": {},
   "source": [
    "## Settings"
   ]
  },
  {
   "cell_type": "code",
   "execution_count": null,
   "metadata": {},
   "outputs": [],
   "source": [
    "import pandas as pd\n",
    "from sqlalchemy import create_engine"
   ]
  },
  {
   "cell_type": "markdown",
   "metadata": {},
   "source": [
    "You have 2 options:\n",
    "1. Install PostgreSQL and set up a local database in your computer!\n",
    "2. Used an already set-up database. For that, you will need some credentials!"
   ]
  },
  {
   "cell_type": "code",
   "execution_count": null,
   "metadata": {},
   "outputs": [],
   "source": [
    "# Credentials to connect to DB \n",
    "# (this should not be placed inside the code, but in a configuration file!)\n",
    "host = 'localhost'\n",
    "port = ...\n",
    "user = ...\n",
    "password = ...\n",
    "database = ..."
   ]
  },
  {
   "cell_type": "code",
   "execution_count": null,
   "metadata": {},
   "outputs": [],
   "source": [
    "# Connection to DB\n",
    "database_uri = 'postgresql://{}:{}@{}:{}/{}'.format(user, password, host, port, database)\n",
    "con = create_engine(database_uri).connect()"
   ]
  },
  {
   "cell_type": "markdown",
   "metadata": {},
   "source": [
    "## Let's practice!"
   ]
  },
  {
   "cell_type": "markdown",
   "metadata": {},
   "source": [
    "### Before calçotada"
   ]
  },
  {
   "cell_type": "markdown",
   "metadata": {},
   "source": [
    "Before the _calçotada_ starts, there is always a big issue: **music**. That's why a column *fav_music_gndr* was added to choose that music among people's preferences which is more socially accepted in this group."
   ]
  },
  {
   "cell_type": "markdown",
   "metadata": {},
   "source": [
    "**1. In order to have some songs from each style, check which genders of music were chosen as favourite.**"
   ]
  },
  {
   "cell_type": "code",
   "execution_count": null,
   "metadata": {},
   "outputs": [],
   "source": [
    "# Define query\n",
    "query = \"\"\"\n",
    "SELECT ...\n",
    "\"\"\""
   ]
  },
  {
   "cell_type": "code",
   "execution_count": null,
   "metadata": {},
   "outputs": [],
   "source": [
    "# Fetch data directly with Pandas\n",
    "pd.read_sql_query(query, con)"
   ]
  },
  {
   "cell_type": "markdown",
   "metadata": {},
   "source": [
    "**2. Let's see which styles are predominant. Count the number of followers for each music gender and order them to place the most popular ones on top.**"
   ]
  },
  {
   "cell_type": "code",
   "execution_count": null,
   "metadata": {},
   "outputs": [],
   "source": []
  },
  {
   "cell_type": "markdown",
   "metadata": {},
   "source": [
    "**3. Apparently, there were some people whose names started with \"Ma\". Just as a curious thing, which are they favourite music genders?**\n",
    "\n",
    "Hint: *You may want to look for SUBSTRING or LEFT functions*"
   ]
  },
  {
   "cell_type": "code",
   "execution_count": null,
   "metadata": {},
   "outputs": [],
   "source": []
  },
  {
   "cell_type": "markdown",
   "metadata": {},
   "source": [
    "**4. To create a fair playlist of 200 songs (enough for at least 12 hours), calculate how many songs per music gender we need (maintaining the same distribution as people's preferences).**"
   ]
  },
  {
   "cell_type": "code",
   "execution_count": null,
   "metadata": {},
   "outputs": [],
   "source": []
  },
  {
   "cell_type": "markdown",
   "metadata": {},
   "source": [
    "**5. Since reggaeton is always controversial in a party, let's see if there is a majority of people whose favourite style is not _reggaeton_.**\n",
    "\n",
    "Hint: _Check how does CASE WHEN works!_"
   ]
  },
  {
   "cell_type": "code",
   "execution_count": null,
   "metadata": {},
   "outputs": [],
   "source": []
  },
  {
   "cell_type": "markdown",
   "metadata": {},
   "source": [
    "### After calçotada"
   ]
  },
  {
   "cell_type": "markdown",
   "metadata": {},
   "source": [
    "Once the _calçotada_ is over, it's time to **settle up expenses**. In this case, let's imagine I paid for everything (which I did not because we are such a nice group that everyone was in charge of sth) and we created a *debt_balance* column with the amount of money each person owes me."
   ]
  },
  {
   "cell_type": "markdown",
   "metadata": {},
   "source": [
    "**6. Which is the total amount that I have to be paid back?**"
   ]
  },
  {
   "cell_type": "code",
   "execution_count": null,
   "metadata": {},
   "outputs": [],
   "source": []
  },
  {
   "cell_type": "markdown",
   "metadata": {},
   "source": [
    "**7. Which is the neighborhood owing more money (as an absolute quantity)?**"
   ]
  },
  {
   "cell_type": "code",
   "execution_count": null,
   "metadata": {},
   "outputs": [],
   "source": []
  },
  {
   "cell_type": "markdown",
   "metadata": {},
   "source": [
    "**8. And from a debt per person (€/pers) perspective, which is the neighborhood I should send the debt collectors (*cobradors del frac*) first?**"
   ]
  },
  {
   "cell_type": "code",
   "execution_count": null,
   "metadata": {},
   "outputs": [],
   "source": []
  },
  {
   "cell_type": "markdown",
   "metadata": {},
   "source": [
    "**9. And, by profession, which is the job most defaulter?**\n",
    "\n",
    "Take into account that if we just take into account the total amount, it is very probable that mathematicians are the ones owing more money just because we were more. Calculate the debt by person, too."
   ]
  },
  {
   "cell_type": "code",
   "execution_count": null,
   "metadata": {},
   "outputs": [],
   "source": []
  },
  {
   "cell_type": "markdown",
   "metadata": {},
   "source": [
    "### Time to leave! :("
   ]
  },
  {
   "cell_type": "markdown",
   "metadata": {},
   "source": [
    "Now that I know after who I have to go first to get back the money, it's already time to go back home after a complete day full with *calçots*, good music and great company, so I better find a good spot on a car. But wait...!"
   ]
  },
  {
   "cell_type": "markdown",
   "metadata": {},
   "source": [
    "**10. Could you discover who is my flatmate so that we can go back together in the same car? Thanks a lot!**"
   ]
  },
  {
   "cell_type": "code",
   "execution_count": null,
   "metadata": {},
   "outputs": [],
   "source": []
  },
  {
   "cell_type": "markdown",
   "metadata": {},
   "source": [
    "**Super well done and thanks for your time and interest!!!**\n",
    "\n",
    "If you want to practice more PostreSQL exercises, take a look here: https://pgexercises.com/!  "
   ]
  },
  {
   "cell_type": "markdown",
   "metadata": {},
   "source": [
    "Once finished, it's polite to close the connection to the DB! Too many open connections may cause some trouble in accessing the database, as well as some anger among infrastructure and systems developers!"
   ]
  },
  {
   "cell_type": "code",
   "execution_count": null,
   "metadata": {},
   "outputs": [],
   "source": [
    "# Close connection\n",
    "con.close()"
   ]
  },
  {
   "cell_type": "code",
   "execution_count": null,
   "metadata": {},
   "outputs": [],
   "source": []
  }
 ],
 "metadata": {
  "kernelspec": {
   "display_name": "Python 3",
   "language": "python",
   "name": "python3"
  },
  "language_info": {
   "codemirror_mode": {
    "name": "ipython",
    "version": 3
   },
   "file_extension": ".py",
   "mimetype": "text/x-python",
   "name": "python",
   "nbconvert_exporter": "python",
   "pygments_lexer": "ipython3",
   "version": "3.6.8"
  }
 },
 "nbformat": 4,
 "nbformat_minor": 2
}
